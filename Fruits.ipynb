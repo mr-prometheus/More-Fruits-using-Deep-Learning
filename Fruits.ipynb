{
 "cells": [
  {
   "cell_type": "code",
   "execution_count": 8,
   "id": "1f8eede2",
   "metadata": {},
   "outputs": [],
   "source": [
    "import numpy as np\n",
    "import pandas as pd\n",
    "import cv2\n",
    "import os\n",
    "from sklearn.metrics import classification_report, confusion_matrix\n",
    "import random\n",
    "from tensorflow.keras.preprocessing import image\n",
    "from tensorflow.keras.utils import to_categorical\n",
    "from keras.applications.mobilenet import MobileNet, preprocess_input\n",
    "from tensorflow.keras.applications.mobilenet_v2 import MobileNetV2\n",
    "from tensorflow.keras.models import Sequential\n",
    "from tensorflow.keras.layers import Dropout, Dense,BatchNormalization, Flatten, MaxPool2D\n",
    "from keras.callbacks import ModelCheckpoint, EarlyStopping, ReduceLROnPlateau, Callback\n",
    "from keras.layers import Conv2D, Reshape\n",
    "from tensorflow.keras.utils import Sequence\n",
    "from keras.backend import epsilon\n",
    "import tensorflow as tf\n",
    "from sklearn.model_selection import train_test_split\n",
    "import matplotlib.pyplot as plt\n",
    "import seaborn as sns\n",
    "from tensorflow.keras.layers import GlobalAveragePooling2D\n",
    "from tensorflow.keras.optimizers import Adam\n",
    "import warnings\n",
    "warnings.filterwarnings('ignore')"
   ]
  },
  {
   "cell_type": "code",
   "execution_count": 9,
   "id": "053e4d4c",
   "metadata": {},
   "outputs": [
    {
     "data": {
      "text/plain": [
       "['Apple',\n",
       " 'Banana',\n",
       " 'Cherry',\n",
       " 'Dragon Fruit',\n",
       " 'Mango',\n",
       " 'Orange',\n",
       " 'Papaya',\n",
       " 'Pineapple']"
      ]
     },
     "execution_count": 9,
     "metadata": {},
     "output_type": "execute_result"
    }
   ],
   "source": [
    "train_dir = \"results/train\"\n",
    "train_class = os.listdir(train_dir)\n",
    "train_class"
   ]
  },
  {
   "cell_type": "code",
   "execution_count": 10,
   "id": "56da0a43",
   "metadata": {},
   "outputs": [
    {
     "data": {
      "text/plain": [
       "['Apple',\n",
       " 'Banana',\n",
       " 'Cherry',\n",
       " 'Dragon Fruit',\n",
       " 'Mango',\n",
       " 'Orange',\n",
       " 'Papaya',\n",
       " 'Pineapple']"
      ]
     },
     "execution_count": 10,
     "metadata": {},
     "output_type": "execute_result"
    }
   ],
   "source": [
    "val_dir = \"results/val\"\n",
    "val_class = os.listdir(val_dir)\n",
    "val_class"
   ]
  },
  {
   "cell_type": "code",
   "execution_count": 11,
   "id": "35a05c31",
   "metadata": {},
   "outputs": [
    {
     "data": {
      "text/plain": [
       "['Apple',\n",
       " 'Banana',\n",
       " 'Cherry',\n",
       " 'Dragon Fruit',\n",
       " 'Mango',\n",
       " 'Orange',\n",
       " 'Papaya',\n",
       " 'Pineapple']"
      ]
     },
     "execution_count": 11,
     "metadata": {},
     "output_type": "execute_result"
    }
   ],
   "source": [
    "test_dir = \"results/test\"\n",
    "test_class = os.listdir(test_dir)\n",
    "test_class"
   ]
  },
  {
   "cell_type": "code",
   "execution_count": 12,
   "id": "ab3b9ffe",
   "metadata": {},
   "outputs": [
    {
     "name": "stdout",
     "output_type": "stream",
     "text": [
      "Preparing Training Dataset Completed.\n"
     ]
    }
   ],
   "source": [
    "x = [] \n",
    "y = []\n",
    "\n",
    "for folder in os.listdir(train_dir):\n",
    "    image_list = os.listdir(train_dir + \"/\" + folder)\n",
    "    for image_name in image_list:\n",
    "        img=image.load_img(train_dir+\"/\"+folder+\"/\"+image_name,target_size=(224,224))\n",
    "        img=image.img_to_array(img)\n",
    "        \n",
    "        # Transfer Learning: Preprocess of MobileNetV2 model to our images before passing it to MobileNetV2\n",
    "        img=preprocess_input(img)\n",
    "        \n",
    "        x.append(img) # appending image array\n",
    "        y.append(train_class.index(folder)) # appending class index to the array\n",
    "        \n",
    "print(\"Preparing Training Dataset Completed.\")"
   ]
  },
  {
   "cell_type": "code",
   "execution_count": 16,
   "id": "1276d19f",
   "metadata": {},
   "outputs": [
    {
     "name": "stdout",
     "output_type": "stream",
     "text": [
      "Preparing Validation Dataset Completed.\n"
     ]
    }
   ],
   "source": [
    "val_images=[]\n",
    "val_images_Original=[]\n",
    "val_image_label=[]\n",
    "\n",
    "for folder in os.listdir(val_dir):\n",
    "    image_list=os.listdir(val_dir+\"/\"+folder)\n",
    "    for img_name in image_list:\n",
    "        # Loading images\n",
    "        img=image.load_img(val_dir+\"/\"+folder+\"/\"+img_name,target_size=(224,224))\n",
    "        \n",
    "        # Converting to arrarys\n",
    "        img=image.img_to_array(img)\n",
    "        \n",
    "        # Saving original images, will be used just for display at the end\n",
    "        val_images_Original.append(img.copy())\n",
    "        img=preprocess_input(img) \n",
    "        \n",
    "        # Appending arrays\n",
    "        val_images.append(img)\n",
    "        val_image_label.append(val_class.index(folder))\n",
    "        \n",
    "print(\"Preparing Validation Dataset Completed.\")"
   ]
  },
  {
   "cell_type": "code",
   "execution_count": null,
   "id": "766d68da",
   "metadata": {},
   "outputs": [],
   "source": []
  }
 ],
 "metadata": {
  "kernelspec": {
   "display_name": "Python 3 (ipykernel)",
   "language": "python",
   "name": "python3"
  },
  "language_info": {
   "codemirror_mode": {
    "name": "ipython",
    "version": 3
   },
   "file_extension": ".py",
   "mimetype": "text/x-python",
   "name": "python",
   "nbconvert_exporter": "python",
   "pygments_lexer": "ipython3",
   "version": "3.10.0"
  }
 },
 "nbformat": 4,
 "nbformat_minor": 5
}
